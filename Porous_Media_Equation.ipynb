{
  "nbformat": 4,
  "nbformat_minor": 0,
  "metadata": {
    "colab": {
      "name": "Porous Media Equation.ipynb",
      "provenance": [],
      "authorship_tag": "ABX9TyOX7h2IOVXivX+jOukhN7B9",
      "include_colab_link": true
    },
    "kernelspec": {
      "name": "python3",
      "display_name": "Python 3"
    },
    "language_info": {
      "name": "python"
    }
  },
  "cells": [
    {
      "cell_type": "markdown",
      "metadata": {
        "id": "view-in-github",
        "colab_type": "text"
      },
      "source": [
        "<a href=\"https://colab.research.google.com/github/JiaqiZhang988/super-guide/blob/main/Porous_Media_Equation.ipynb\" target=\"_parent\"><img src=\"https://colab.research.google.com/assets/colab-badge.svg\" alt=\"Open In Colab\"/></a>"
      ]
    },
    {
      "cell_type": "markdown",
      "source": [
        "SELF Summer22\n",
        "\"An accurate...\" Porous Media equation\n",
        "---Numerical PDE"
      ],
      "metadata": {
        "id": "Gxv96D4p4YW0"
      }
    },
    {
      "cell_type": "code",
      "source": [
        "# 已知参数\n",
        "CB = 0.25\n",
        "CC = 0.2\n",
        "FB = 5\n",
        "FC = 4\n",
        "p1 = 200\n",
        "p3 = 38\n",
        "dx = 2\n",
        "\n",
        "# B、C处的速度试算值和初始压力假定\n",
        "uB_0 = 8\n",
        "uC_0 = 10\n",
        "p2_star = 100\n",
        "\n",
        "# 设置统计迭代次数变量\n",
        "count = 1\n",
        "\n",
        "# 迭代开始\n",
        "while 1:\n",
        "    # 求速度预估值\n",
        "    uB_star = 0.5 * uB_0 - (p2_star - p1) / (2 * CB * uB_0 * dx)\n",
        "    uC_star = 0.5 * uC_0 - (p3 - p2_star) / (2 * CC * uC_0 * dx)\n",
        "\n",
        "    # 求压力修正值\n",
        "    p2_correction = 2 * dx * (uB_star * FB - uC_star * FC) / ((FB / (CB * uB_0)) + (FC / (CC * uC_0)))\n",
        "\n",
        "    # 求速度修正值\n",
        "    uB_correction = - p2_correction / (2 * CB * uB_0 * dx)\n",
        "    uC_correction = p2_correction / (2 * CC * uC_0 * dx)\n",
        "\n",
        "    # 迭代结果\n",
        "    p2 = p2_star + p2_correction\n",
        "    uB = uB_star + uB_correction\n",
        "    uC = uC_star + uC_correction\n",
        "    \n",
        "    # 打印第count次的迭代结果（第count次的真值，可能不是最终真正的真值）\n",
        "    print('第',count,'次迭代结果：')\n",
        "    print('p2 = ',p2) \n",
        "    print('uB = ',uB)\n",
        "    print('uC = ',uC)\n",
        "    print('\\n')\n",
        "    # 退出循环判断\n",
        "   # if abs(p2_correction) < 0.000001 and abs(uB_correction) < 0.000001 and abs(uC_correction) <0.000001:#退出循环条件\n",
        "    if abs(p2 - p2_star) < 0.000001 and abs(uB - uB_0) < 0.000001 and abs(uC - uC_0) <0.000001:\n",
        "        # 条件判断中的p2_star、uB_0、uC_0是上一迭代层的真值（从下面else中赋值语句可以看出）\n",
        "        # 条件判断中的p2、uB、uC是最新迭代层（本迭代层）的真值\n",
        "        # 以上一迭代层的真值与本迭代层的真值的差值小于10的负6次方作为收敛条件（收敛后每一迭代层的真值理应相等）\n",
        "        break\n",
        "    else:\n",
        "        p2_star = p2\n",
        "        uB_0 = uB\n",
        "        uC_0 = uC\n",
        "        count += 1\n",
        "        \n",
        "print('只需迭代',count,'次使得残差值都小于10的负6次方')\n",
        "print('最终求得的结果为：')\n",
        "print('p2 = ',p2) \n",
        "print('uB = ',uB)\n",
        "print('uC = ',uC)\n",
        "  \n",
        "\n",
        "\n"
      ],
      "metadata": {
        "colab": {
          "base_uri": "https://localhost:8080/"
        },
        "id": "vDwp3luX4cVa",
        "outputId": "e1b78cc6-a00e-4233-daeb-46dd85ffa3c2"
      },
      "execution_count": 1,
      "outputs": [
        {
          "output_type": "stream",
          "name": "stdout",
          "text": [
            "第 1 次迭代结果：\n",
            "p2 =  128.0\n",
            "uB =  13.0\n",
            "uC =  16.25\n",
            "\n",
            "\n",
            "第 2 次迭代结果：\n",
            "p2 =  128.0\n",
            "uB =  12.038461538461538\n",
            "uC =  15.048076923076923\n",
            "\n",
            "\n",
            "第 3 次迭代结果：\n",
            "p2 =  128.0\n",
            "uB =  12.000061440157287\n",
            "uC =  15.000076800196608\n",
            "\n",
            "\n",
            "第 4 次迭代结果：\n",
            "p2 =  128.0\n",
            "uB =  12.000000000157286\n",
            "uC =  15.000000000196607\n",
            "\n",
            "\n",
            "第 5 次迭代结果：\n",
            "p2 =  128.0\n",
            "uB =  12.0\n",
            "uC =  15.0\n",
            "\n",
            "\n",
            "只需迭代 5 次使得残差值都小于10的负6次方\n",
            "最终求得的结果为：\n",
            "p2 =  128.0\n",
            "uB =  12.0\n",
            "uC =  15.0\n"
          ]
        }
      ]
    }
  ]
}